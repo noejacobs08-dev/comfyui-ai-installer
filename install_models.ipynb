{
 "cells": [
  {
   "cell_type": "markdown",
   "metadata": {},
   "source": [
    "# 🧩 ComfyUI – Install Models\n",
    "\n",
    "This notebook will install all required models and nodes for this chapter.\n",
    "\n",
    "➡️ Simply press **Run All** (`Ctrl+Shift+Enter` or the ▶️ button above)."
   ]
  },
  {
   "cell_type": "code",
   "execution_count": null,
   "metadata": {},
   "outputs": [],
   "source": [
    "import os\n",
    "\n",
    "installer_path = '/workspace/install_models.sh'\n",
    "\n",
    "if os.path.exists(installer_path):\n",
    "    print('🚀 Starting model installation...')\n",
    "    !bash \"$installer_path\"\n",
    "    print('\\n✅ Installation complete! You can now refresh ComfyUI.')\n",
    "else:\n",
    "    print('❌ install_models.sh not found. Make sure it exists in /workspace.')"
   ]
  }
 ],
 "metadata": {
  "kernelspec": {
   "display_name": "Python 3",
   "language": "python",
   "name": "python3"
  },
  "language_info": {
   "name": "python"
  }
 },
 "nbformat": 4,
 "nbformat_minor": 5
}
