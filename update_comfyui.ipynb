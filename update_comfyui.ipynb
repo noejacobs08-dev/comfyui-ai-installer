{
 "cells": [
  {
   "cell_type": "markdown",
   "metadata": {},
   "source": [
    "# 🔄 Update ComfyUI to the latest version\n",
    "\n",
    "This notebook updates your local ComfyUI installation to the latest commit from GitHub.\n",
    "\n",
    "➡️ Just press **Run All** (`Ctrl+Shift+Enter` or ▶️) to perform the update.\n",
    "\n",
    "⚠️ ComfyUI will restart automatically after the update. Any current workflow will close, so save your work first!"
   ]
  },
  {
   "cell_type": "code",
   "execution_count": null,
   "metadata": {},
   "outputs": [],
   "source": [
    "import os\n",
    "import subprocess\n",
    "import time\n",
    "\n",
    "comfy_path = '/workspace/ComfyUI'\n",
    "\n",
    "if os.path.exists(comfy_path):\n",
    "    print('🔍 Checking current ComfyUI version...')\n",
    "    subprocess.run(['git', '-C', comfy_path, 'rev-parse', '--short', 'HEAD'])\n",
    "\n",
    "    print('\\n⬇️ Pulling latest updates from GitHub...')\n",
    "    subprocess.run(['git', '-C', comfy_path, 'pull', 'origin', 'master'], check=False)\n",
    "\n",
    "    print('\\n📦 Updating dependencies (if needed)...')\n",
    "    subprocess.run(['pip', 'install', '-r', f'{comfy_path}/requirements.txt', '--upgrade'], check=False)\n",
    "\n",
    "    print('\\n✅ ComfyUI successfully updated!')\n",
    "    print('🔁 Restarting ComfyUI server...')\n",
    "\n",
    "    # Kill any existing ComfyUI processes and restart\n",
    "    subprocess.run(['pkill', '-f', 'main.py'], check=False)\n",
    "    time.sleep(3)\n",
    "    subprocess.Popen(['python3', f'{comfy_path}/main.py', '--listen', '0.0.0.0', '--port', '8188'])\n",
    "\n",
    "    print('\\n🚀 ComfyUI restarted on port 8188. Refresh your browser to reconnect.')\n",
    "else:\n",
    "    print('❌ ComfyUI folder not found at /workspace/ComfyUI. Make sure it exists.')"
   ]
  }
 ],
 "metadata": {
  "kernelspec": {
   "display_name": "Python 3",
   "language": "python",
   "name": "python3"
  },
  "language_info": {
   "name": "python"
  }
 },
 "nbformat": 4,
 "nbformat_minor": 5
}
